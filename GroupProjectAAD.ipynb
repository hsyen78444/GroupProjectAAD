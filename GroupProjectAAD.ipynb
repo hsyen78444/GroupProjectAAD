{
  "nbformat": 4,
  "nbformat_minor": 0,
  "metadata": {
    "colab": {
      "provenance": [],
      "toc_visible": true,
      "authorship_tag": "ABX9TyP3fhoDU7j65TzwNOpQHphs",
      "include_colab_link": true
    },
    "kernelspec": {
      "name": "python3",
      "display_name": "Python 3"
    },
    "language_info": {
      "name": "python"
    }
  },
  "cells": [
    {
      "cell_type": "markdown",
      "metadata": {
        "id": "view-in-github",
        "colab_type": "text"
      },
      "source": [
        "<a href=\"https://colab.research.google.com/github/hsyen78444/GroupProjectAAD/blob/main/GroupProjectAAD.ipynb\" target=\"_parent\"><img src=\"https://colab.research.google.com/assets/colab-badge.svg\" alt=\"Open In Colab\"/></a>"
      ]
    },
    {
      "cell_type": "markdown",
      "source": [
        "# Part 1\n"
      ],
      "metadata": {
        "id": "IYj_CHpessOU"
      }
    },
    {
      "cell_type": "markdown",
      "source": [
        "#Part 2\n"
      ],
      "metadata": {
        "id": "X_0sFkEBsWJB"
      }
    },
    {
      "cell_type": "code",
      "source": [
        "import pandas as pd\n",
        "from google.colab import drive\n",
        "drive.mount('/content/gdrive')\n",
        "# Load CSV data\n",
        "\n",
        "file_path = '/content/gdrive/My Drive/AAD/Moira_Market_Items.csv'\n",
        "df = pd.read_csv(file_path)"
      ],
      "metadata": {
        "id": "MYMVjEVhoBDz"
      },
      "execution_count": null,
      "outputs": []
    },
    {
      "cell_type": "code",
      "source": [
        "# Step 1: Filter items\n",
        "filtered_df = df[(df['Price'] <= 800) & (df['Durability'] > 85)]\n",
        "\n",
        "# Step 2: Bucket Sort by Compatibility (float between 0 and 1)\n",
        "def bucket_sort_compatibility(data, bucket_count=10):\n",
        "    # Create empty buckets\n",
        "    buckets = [[] for _ in range(bucket_count)]\n",
        "\n",
        "    # Distribute each item into appropriate bucket\n",
        "    for _, row in data.iterrows():\n",
        "        index = min(int(row['Compatibility'] * bucket_count), bucket_count - 1)\n",
        "        buckets[index].append(row)\n",
        "\n",
        "    # Sort each bucket (by Compatibility) and merge all\n",
        "    sorted_items = []\n",
        "    for bucket in reversed(buckets):  # Reversed for descending order\n",
        "        sorted_bucket = sorted(bucket, key=lambda x: x['Compatibility'], reverse=True)\n",
        "        sorted_items.extend(sorted_bucket)\n",
        "\n",
        "    return pd.DataFrame(sorted_items)\n",
        "\n",
        "# Step 3: Apply the sort\n",
        "sorted_df = bucket_sort_compatibility(filtered_df)\n",
        "\n",
        "# Step 4: Display top results\n",
        "print(\"Top 10 Recommended Items:\")\n",
        "print(sorted_df[['Stall ID', 'Item Name', 'Price', 'Durability', 'Compatibility']].head(10))"
      ],
      "metadata": {
        "colab": {
          "base_uri": "https://localhost:8080/"
        },
        "id": "KKAqy7H-sNmU",
        "outputId": "130ef3a2-cc47-4b13-8fdc-47d8cbd5bb7f"
      },
      "execution_count": 7,
      "outputs": [
        {
          "output_type": "stream",
          "name": "stdout",
          "text": [
            "Top 10 Recommended Items:\n",
            "      Stall ID     Item Name  Price  Durability  Compatibility\n",
            "2    STALL-153    Solar Core    394          98           0.99\n",
            "263  STALL-076    Hyper Lens    397          98           0.98\n",
            "10   STALL-181  Plasma Relay    629          87           0.96\n",
            "20   STALL-151    Ion Filter    625          93           0.94\n",
            "245  STALL-158      Ion Core    205          98           0.94\n",
            "345  STALL-167  Neutron Lens    747          90           0.93\n",
            "30   STALL-190  Neutron Lens    113          93           0.92\n",
            "312  STALL-182   Hyper Drive    518          95           0.91\n",
            "270  STALL-029   Plasma Core    658          97           0.90\n",
            "292  STALL-094   Solar Drive    763          93           0.90\n"
          ]
        }
      ]
    },
    {
      "cell_type": "markdown",
      "source": [
        "# Part 3\n"
      ],
      "metadata": {
        "id": "DRA4mKx_slZp"
      }
    },
    {
      "cell_type": "markdown",
      "source": [
        "# Part 4"
      ],
      "metadata": {
        "id": "-s1ZnCdyszj6"
      }
    },
    {
      "cell_type": "markdown",
      "source": [
        "# Part 5"
      ],
      "metadata": {
        "id": "COMOGmQAsz_H"
      }
    },
    {
      "cell_type": "markdown",
      "source": [
        "# Part 6"
      ],
      "metadata": {
        "id": "3yKMEfXLs6ZN"
      }
    },
    {
      "cell_type": "markdown",
      "source": [
        "# Part 7"
      ],
      "metadata": {
        "id": "jpN7XIH7s8f-"
      }
    }
  ]
}